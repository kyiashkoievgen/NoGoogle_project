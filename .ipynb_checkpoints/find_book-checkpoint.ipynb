{
 "cells": [
  {
   "cell_type": "code",
   "execution_count": 1,
   "id": "e1c33027",
   "metadata": {},
   "outputs": [],
   "source": [
    "import sqlite3\n",
    "import _pickle\n",
    "from sklearn.feature_extraction.text import HashingVectorizer\n",
    "from sklearn.neighbors import KNeighborsClassifier\n",
    "import re\n",
    "import numpy as np\n",
    "import pandas as pd\n",
    "from nltk.corpus import stopwords\n",
    "from sklearn.base import BaseEstimator, TransformerMixin\n",
    "from razdel import tokenize  # https://github.com/natasha/razdel\n",
    "# !pip install razdel\n",
    "\n",
    "import pymorphy2  # pip install pymorphy2\n",
    "\n",
    "from sklearn.feature_extraction.text import TfidfVectorizer\n",
    "\n",
    "import pickle\n",
    "import sqlite3\n",
    "import _pickle\n",
    "\n",
    "from sklearn.decomposition import TruncatedSVD\n",
    "from sklearn.feature_extraction.text import HashingVectorizer\n",
    "from sklearn.neighbors import KNeighborsClassifier\n",
    "import re\n",
    "import numpy as np\n",
    "import pandas as pd\n",
    "from nltk.corpus import stopwords\n",
    "from sklearn.base import BaseEstimator, TransformerMixin\n",
    "from razdel import tokenize  # https://github.com/natasha/razdel\n",
    "# !pip install razdel\n",
    "\n",
    "import pymorphy2  # pip install pymorphy2\n",
    "\n",
    "from sklearn.feature_extraction.text import TfidfVectorizer\n",
    "from sklearn.preprocessing import Normalizer\n",
    "\n",
    "from text_prep import TextPreparation"
   ]
  },
  {
   "cell_type": "code",
   "execution_count": 2,
   "id": "8ad75db1",
   "metadata": {},
   "outputs": [],
   "source": [
    "def clean_text(text):\n",
    "    '''\n",
    "    очистка текста\n",
    "\n",
    "    на выходе очищеный текст\n",
    "\n",
    "    '''\n",
    "    if not isinstance(text, str):\n",
    "        text = str(text)\n",
    "\n",
    "    text = text.lower()\n",
    "    text = text.strip('\\n').strip('\\r').strip('\\t')\n",
    "    text = re.sub(\"-\\s\\r\\n\\|-\\s\\r\\n|\\r\\n\", '', str(text))\n",
    "\n",
    "    text = re.sub(\"[0-9]|[-—.,:;_%©«»?*!@#№$^•·&()]|[+=]|[[]|[]]|[/]|\", '', text)\n",
    "    text = re.sub(r\"\\r\\n\\t|\\n|\\\\s|\\r\\t|\\\\n\", ' ', text)\n",
    "    text = re.sub(r'[\\xad]|[\\s+]', ' ', text.strip())\n",
    "\n",
    "    # tokens = list(tokenize(text))\n",
    "    # words = [_.text for _ in tokens]\n",
    "    # words = [w for w in words if w not in stopword_ru]\n",
    "\n",
    "    # return \" \".join(words)\n",
    "    return text\n",
    "\n",
    "\n",
    "class TextPreparation(BaseEstimator, TransformerMixin):\n",
    "\n",
    "    def __init__(self):\n",
    "        self.cache = {}\n",
    "        self.stopword_ru = stopwords.words('russian')\n",
    "        self.morph = pymorphy2.MorphAnalyzer()\n",
    "        with open('stopwords.txt', encoding=\"utf8\") as f:\n",
    "            additional_stopwords = [w.strip() for w in f.readlines() if w]\n",
    "        self.stopword_ru += additional_stopwords\n",
    "\n",
    "    def lemmatization(self, text):\n",
    "        '''\n",
    "        лемматизация\n",
    "            [0] если зашел тип не `str` делаем его `str`\n",
    "            [1] токенизация предложения через razdel\n",
    "            [2] проверка есть ли в начале слова '-'\n",
    "            [3] проверка токена с одного символа\n",
    "            [4] проверка есть ли данное слово в кэше\n",
    "            [5] лемматизация слова\n",
    "            [6] проверка на стоп-слова\n",
    "\n",
    "        на выходе лист отлемматизированых токенов\n",
    "        '''\n",
    "\n",
    "        # [0]\n",
    "        if not isinstance(text, str):\n",
    "            text = str(text)\n",
    "\n",
    "        # [1]\n",
    "        tokens = list(tokenize(text))\n",
    "        words = [_.text for _ in tokens]\n",
    "\n",
    "        words_lem = []\n",
    "        for w in words:\n",
    "            if w[0] == '-':  # [2]\n",
    "                w = w[1:]\n",
    "            if len(w) > 1:  # [3]\n",
    "                if w in self.cache:  # [4]\n",
    "                    words_lem.append(self.cache[w])\n",
    "                else:  # [5]\n",
    "                    temp_cach = self.cache[w] = self.morph.parse(w)[0].normal_form\n",
    "                    words_lem.append(temp_cach)\n",
    "\n",
    "        words_lem_without_stopwords = [i for i in words_lem if not i in self.stopword_ru]  # [6]\n",
    "\n",
    "        return ' '.join(words_lem_without_stopwords)\n",
    "\n",
    "    def fit(self, txt, y=None):\n",
    "        return self\n",
    "\n",
    "    def transform(self, txt, y=None):\n",
    "        txt = txt.apply(lambda x: clean_text(x), 1)\n",
    "        txt = txt.apply(lambda x: self.lemmatization(x), 1)\n",
    "        return txt"
   ]
  },
  {
   "cell_type": "code",
   "execution_count": 3,
   "id": "b53e040e",
   "metadata": {},
   "outputs": [],
   "source": [
    "conn = sqlite3.connect(r'lib.db')\n",
    "cur = conn.cursor() \n",
    "cur.execute(\"\"\"SELECT * FROM books\"\"\")\n",
    "records = cur.fetchall()\n",
    "#x = pd.DataFrame()\n",
    "x = pd.DataFrame()\n",
    "y = pd.DataFrame()\n",
    "for row in records:\n",
    "    y = pd.concat([y, pd.DataFrame([{'book_id':row[0]}])])\n",
    "    unpickled = _pickle.loads(row[4])\n",
    "    x = pd.concat([x, pd.DataFrame(unpickled)])\n",
    "\n"
   ]
  },
  {
   "cell_type": "code",
   "execution_count": 4,
   "id": "a634f203",
   "metadata": {},
   "outputs": [
    {
     "name": "stdout",
     "output_type": "stream",
     "text": [
      "1 7 unikal'nykh rietsieptov pobie - Andriei Vladimirovich Kurpatov.txt\n",
      "2 Duel' Ponomaria - Baian Shirianov.txt\n",
      "3 Eliektroprokhladitiel'nyi kislo - Nieizviestnyi.txt\n",
      "4 Hippie - Paulo Coelho.txt\n",
      "5 Intierv'iu Ievghieniia Gornogho - Baian Shirianov.txt\n",
      "6 Iskushieniie budushchim - Nieizviestnyi.txt\n",
      "7 Khroniki nastupaiushchiegho Udv - Baian Shirianov.txt\n",
      "8 LSD. Galliutsinoghieny, psikhod - Alieksandr Giennadiievich Danil.txt\n",
      "9 Moghila Bieshienogho - Baian Shirianov.txt\n",
      "10 Monastyr' - Baian Shirianov.txt\n",
      "11 Narkomanskiie aniekdoty - Baian Shirianov.txt\n",
      "12 Nizshii pilotazh - Baian Shirianov.txt\n",
      "13 Normal'nyi - Baian Shirianov.txt\n",
      "14 Oborotien' - Baian Shirianov.txt\n",
      "15 PiHKAL - Alieksandr Shul'ghin.txt\n",
      "16 Ponomar' - Baian Shirianov.txt\n",
      "17 Posliedniaia bitva Ponomaria - Baian Shirianov.txt\n",
      "18 Psikhodielichieskii opyt - Timoti Frensis Liri.txt\n",
      "19 Psychedelic Shamanism - 1994 by Jim DeKorne (Full Editi.txt\n",
      "20 Sriedinnyi pilotazh - Baian Shirianov.txt\n",
      "21 TiHKAL - Alieksandr Shul'ghin.txt\n",
      "22 Ubiitsa dlia Ponomaria - Baian Shirianov.txt\n",
      "23 Ulitsa miertvykh narkomanov - Baian Shirianov.txt\n",
      "24 Vierkhovnyi pilotazh - Baian Shirianov.txt\n",
      "25 Zanimatiel'naia sieksopatologhi - Baian Shirianov.txt\n",
      "26 Основы сексологии.txt\n"
     ]
    }
   ],
   "source": [
    "for row in records:\n",
    "    print(row[0], row[1])"
   ]
  },
  {
   "cell_type": "code",
   "execution_count": 5,
   "id": "15a0e434",
   "metadata": {},
   "outputs": [
    {
     "data": {
      "text/plain": [
       "KNeighborsClassifier(n_neighbors=3)"
      ]
     },
     "execution_count": 5,
     "metadata": {},
     "output_type": "execute_result"
    }
   ],
   "source": [
    "clf = KNeighborsClassifier(n_neighbors=3)\n",
    "add_vector = HashingVectorizer(n_features=1000)\n",
    "tp = TextPreparation()\n",
    "clf.fit(x,y.to_numpy().ravel())"
   ]
  },
  {
   "cell_type": "code",
   "execution_count": 6,
   "id": "f2fbfd7e",
   "metadata": {},
   "outputs": [],
   "source": [
    "conn.close()"
   ]
  },
  {
   "cell_type": "code",
   "execution_count": 7,
   "id": "cd501ca0",
   "metadata": {},
   "outputs": [
    {
     "name": "stderr",
     "output_type": "stream",
     "text": [
      "C:\\Users\\User\\AppData\\Local\\Temp\\ipykernel_9308\\3268324847.py:15: FutureWarning: Possible nested set at position 39\n",
      "  text = re.sub(\"[0-9]|[-—.,:;_%©«»?*!@#№$^•·&()]|[+=]|[[]|[]]|[/]|\", '', text)\n"
     ]
    },
    {
     "data": {
      "text/plain": [
       "array([0.        , 0.        , 0.        , 0.        , 0.        ,\n",
       "       0.        , 0.        , 0.33333333, 0.        , 0.        ,\n",
       "       0.        , 0.        , 0.        , 0.        , 0.        ,\n",
       "       0.        , 0.        , 0.        , 0.        , 0.        ,\n",
       "       0.        , 0.        , 0.        , 0.        , 0.33333333,\n",
       "       0.33333333])"
      ]
     },
     "execution_count": 7,
     "metadata": {},
     "output_type": "execute_result"
    }
   ],
   "source": [
    "text = tp.fit_transform(pd.DataFrame(['сексуальность']))\n",
    "vectorized_to_lib = add_vector.fit_transform([text.to_string(index=False)]).toarray()\n",
    "pred = clf.predict_proba(vectorized_to_lib)\n",
    "pred[0]"
   ]
  },
  {
   "cell_type": "code",
   "execution_count": 27,
   "id": "1ad5e048",
   "metadata": {},
   "outputs": [
    {
     "data": {
      "text/plain": [
       "array([ 8, 25, 26], dtype=int64)"
      ]
     },
     "execution_count": 27,
     "metadata": {},
     "output_type": "execute_result"
    }
   ],
   "source": [
    "clf.classes_[(pred>0).ravel()]"
   ]
  },
  {
   "cell_type": "code",
   "execution_count": 28,
   "id": "c90ccf6f",
   "metadata": {},
   "outputs": [],
   "source": [
    "from search import search_page "
   ]
  },
  {
   "cell_type": "code",
   "execution_count": null,
   "id": "0cdf764e",
   "metadata": {},
   "outputs": [],
   "source": [
    "search_page(1,'Когда наступает неврастения?')"
   ]
  },
  {
   "cell_type": "code",
   "execution_count": null,
   "id": "8e28d4ad",
   "metadata": {},
   "outputs": [],
   "source": [
    "    svd = TruncatedSVD(n_components=90)\n",
    "    norm = Normalizer(copy=False)\n",
    "    conn = sqlite3.connect(r'lib.db')\n",
    "    cur = conn.cursor()\n",
    "    cur.execute(\"\"\"SELECT userid, file_name, clf, tfidf FROM books WHERE userid=1\"\"\")\n",
    "    row = cur.fetchone()\n",
    "    file_name = row[1]\n",
    "    print(file_name)\n",
    "    clf = _pickle.loads(row[2])\n",
    "    tfidf = _pickle.loads(row[3])\n",
    "    tp = TextPreparation()\n",
    "    prepared_txt = tp.fit_transform(pd.DataFrame(['Когда наступает неврастения?']))\n",
    "    sv = svd.fit_transform(tfidf.transform(prepared_txt))\n",
    "    print(sv)\n",
    "    vectorized_txt = norm.fit_transform(sv)\n",
    "    pred = clf.predict_proba(vectorized_txt)\n",
    "    pages = clf.classes_[(pred > 0)[0]]"
   ]
  }
 ],
 "metadata": {
  "kernelspec": {
   "display_name": "Python 3 (ipykernel)",
   "language": "python",
   "name": "python3"
  },
  "language_info": {
   "codemirror_mode": {
    "name": "ipython",
    "version": 3
   },
   "file_extension": ".py",
   "mimetype": "text/x-python",
   "name": "python",
   "nbconvert_exporter": "python",
   "pygments_lexer": "ipython3",
   "version": "3.9.13"
  }
 },
 "nbformat": 4,
 "nbformat_minor": 5
}
